{
 "cells": [
  {
   "cell_type": "code",
   "execution_count": 97,
   "id": "686c9133",
   "metadata": {},
   "outputs": [],
   "source": [
    "import pandas as pd"
   ]
  },
  {
   "cell_type": "code",
   "execution_count": 98,
   "id": "3a76aeee",
   "metadata": {},
   "outputs": [],
   "source": [
    "df = pd.read_csv(r'../OriginalData/1_KUJAWSKO-POMORSKIE.csv')"
   ]
  },
  {
   "cell_type": "markdown",
   "id": "5423047d",
   "metadata": {},
   "source": [
    "### Ogólne informacje dotyczące zbioru danych"
   ]
  },
  {
   "cell_type": "code",
   "execution_count": 99,
   "id": "d7d97269",
   "metadata": {},
   "outputs": [
    {
     "name": "stdout",
     "output_type": "stream",
     "text": [
      "Rozmiar zbioru danych:  (458, 6)\n"
     ]
    }
   ],
   "source": [
    "print('Rozmiar zbioru danych: ', df.shape)"
   ]
  },
  {
   "cell_type": "code",
   "execution_count": 100,
   "id": "1ba6d7f5",
   "metadata": {},
   "outputs": [
    {
     "data": {
      "text/plain": [
       "Unnamed: 0           int64\n",
       "Dni od zakupu        int64\n",
       "Marka               object\n",
       "Wiek kupującego    float64\n",
       "Płeć kupującego     object\n",
       "Ocena              float64\n",
       "dtype: object"
      ]
     },
     "execution_count": 100,
     "metadata": {},
     "output_type": "execute_result"
    }
   ],
   "source": [
    "df.dtypes"
   ]
  },
  {
   "cell_type": "markdown",
   "id": "b180a671",
   "metadata": {},
   "source": [
    "# Opis poszczególnych zmiennych"
   ]
  },
  {
   "cell_type": "markdown",
   "id": "9124ae59",
   "metadata": {},
   "source": [
    "## Dni od zakupu\n",
    "### liczba dni, która mineła od zakupu odkurzacza[dni]\n",
    "#### Liczba brakujących wartości :\n"
   ]
  },
  {
   "cell_type": "code",
   "execution_count": 101,
   "id": "5fc8ff54",
   "metadata": {},
   "outputs": [
    {
     "data": {
      "text/plain": [
       "0"
      ]
     },
     "execution_count": 101,
     "metadata": {},
     "output_type": "execute_result"
    }
   ],
   "source": [
    "df['Dni od zakupu'].isnull().sum()"
   ]
  },
  {
   "cell_type": "code",
   "execution_count": 102,
   "id": "df5fd99a",
   "metadata": {},
   "outputs": [
    {
     "data": {
      "text/plain": [
       "count    458.000000\n",
       "mean       7.074236\n",
       "std        2.708070\n",
       "min        1.000000\n",
       "25%        5.000000\n",
       "50%        7.000000\n",
       "75%        9.000000\n",
       "max       17.000000\n",
       "Name: Dni od zakupu, dtype: float64"
      ]
     },
     "execution_count": 102,
     "metadata": {},
     "output_type": "execute_result"
    }
   ],
   "source": [
    "df['Dni od zakupu'].describe()"
   ]
  },
  {
   "cell_type": "code",
   "execution_count": 103,
   "id": "c056b12d",
   "metadata": {},
   "outputs": [
    {
     "data": {
      "text/plain": [
       "<AxesSubplot:>"
      ]
     },
     "execution_count": 103,
     "metadata": {},
     "output_type": "execute_result"
    },
    {
     "data": {
      "image/png": "[encoded data removed]",
      "text/plain": [
       "<Figure size 432x288 with 1 Axes>"
      ]
     },
     "metadata": {
      "needs_background": "light"
     },
     "output_type": "display_data"
    }
   ],
   "source": [
    "df['Dni od zakupu'].hist()"
   ]
  },
  {
   "cell_type": "markdown",
   "id": "5ec94bb4",
   "metadata": {},
   "source": [
    "## Marka\n",
    "### nazwa marki odkurzacza\n",
    "#### Liczba brakujących wartości :"
   ]
  },
  {
   "cell_type": "code",
   "execution_count": 104,
   "id": "87df175b",
   "metadata": {},
   "outputs": [
    {
     "data": {
      "text/plain": [
       "0"
      ]
     },
     "execution_count": 104,
     "metadata": {},
     "output_type": "execute_result"
    }
   ],
   "source": [
    "df['Marka'].isnull().sum()"
   ]
  },
  {
   "cell_type": "code",
   "execution_count": 105,
   "id": "28782ba2",
   "metadata": {},
   "outputs": [
    {
     "data": {
      "text/plain": [
       "Dyson         190\n",
       "Electrolux    103\n",
       "Beko          103\n",
       "Tefal          40\n",
       "Samsung        22\n",
       "Name: Marka, dtype: int64"
      ]
     },
     "execution_count": 105,
     "metadata": {},
     "output_type": "execute_result"
    }
   ],
   "source": [
    "df['Marka'].value_counts()"
   ]
  },
  {
   "cell_type": "code",
   "execution_count": 106,
   "id": "29217243",
   "metadata": {},
   "outputs": [
    {
     "data": {
      "text/plain": [
       "<AxesSubplot:>"
      ]
     },
     "execution_count": 106,
     "metadata": {},
     "output_type": "execute_result"
    },
    {
     "data": {
      "image/png": "[encoded data removed]",
      "text/plain": [
       "<Figure size 432x288 with 1 Axes>"
      ]
     },
     "metadata": {
      "needs_background": "light"
     },
     "output_type": "display_data"
    }
   ],
   "source": [
    "df['Marka'].hist()"
   ]
  },
  {
   "cell_type": "markdown",
   "id": "daf0afb7",
   "metadata": {},
   "source": [
    "## Wiek kupującego\n",
    "\n",
    "#### Liczba brakujących wartości :"
   ]
  },
  {
   "cell_type": "code",
   "execution_count": 107,
   "id": "28d97745",
   "metadata": {},
   "outputs": [
    {
     "data": {
      "text/plain": [
       "45"
      ]
     },
     "execution_count": 107,
     "metadata": {},
     "output_type": "execute_result"
    }
   ],
   "source": [
    "df['Wiek kupującego'].isnull().sum()"
   ]
  },
  {
   "cell_type": "code",
   "execution_count": 108,
   "id": "5a5beaa6",
   "metadata": {},
   "outputs": [
    {
     "data": {
      "text/plain": [
       "count    413.000000\n",
       "mean      40.125908\n",
       "std        9.558640\n",
       "min       18.000000\n",
       "25%       33.000000\n",
       "50%       39.000000\n",
       "75%       46.000000\n",
       "max       74.000000\n",
       "Name: Wiek kupującego, dtype: float64"
      ]
     },
     "execution_count": 108,
     "metadata": {},
     "output_type": "execute_result"
    }
   ],
   "source": [
    "df['Wiek kupującego'].describe()"
   ]
  },
  {
   "cell_type": "code",
   "execution_count": 109,
   "id": "5fffddbb",
   "metadata": {},
   "outputs": [
    {
     "data": {
      "text/plain": [
       "<AxesSubplot:>"
      ]
     },
     "execution_count": 109,
     "metadata": {},
     "output_type": "execute_result"
    },
    {
     "data": {
      "image/png": "[encoded data removed]",
      "text/plain": [
       "<Figure size 432x288 with 1 Axes>"
      ]
     },
     "metadata": {
      "needs_background": "light"
     },
     "output_type": "display_data"
    }
   ],
   "source": [
    "df['Wiek kupującego'].hist()"
   ]
  },
  {
   "cell_type": "markdown",
   "id": "068e00b9",
   "metadata": {},
   "source": [
    "## Płeć kupującego\n",
    "### określa płeć osoby kupującej\n",
    "#### M - mężczyzna, K - kobieta, bd - brak.danych\n",
    "#### Liczba brakujących wartości :"
   ]
  },
  {
   "cell_type": "code",
   "execution_count": 110,
   "id": "a6d689e1",
   "metadata": {},
   "outputs": [
    {
     "data": {
      "text/plain": [
       "45"
      ]
     },
     "execution_count": 110,
     "metadata": {},
     "output_type": "execute_result"
    }
   ],
   "source": [
    "df['Wiek kupującego'].isnull().sum()"
   ]
  },
  {
   "cell_type": "code",
   "execution_count": 111,
   "id": "5b89ca1e",
   "metadata": {},
   "outputs": [
    {
     "data": {
      "text/plain": [
       "K      226\n",
       "M      158\n",
       "bd.     74\n",
       "Name: Płeć kupującego, dtype: int64"
      ]
     },
     "execution_count": 111,
     "metadata": {},
     "output_type": "execute_result"
    }
   ],
   "source": [
    "df['Płeć kupującego'].value_counts()"
   ]
  },
  {
   "cell_type": "code",
   "execution_count": 112,
   "id": "c14def14",
   "metadata": {},
   "outputs": [
    {
     "data": {
      "text/plain": [
       "<AxesSubplot:>"
      ]
     },
     "execution_count": 112,
     "metadata": {},
     "output_type": "execute_result"
    },
    {
     "data": {
      "image/png": "[encoded data removed]",
      "text/plain": [
       "<Figure size 432x288 with 1 Axes>"
      ]
     },
     "metadata": {
      "needs_background": "light"
     },
     "output_type": "display_data"
    }
   ],
   "source": [
    "df['Płeć kupującego'].hist()"
   ]
  },
  {
   "cell_type": "markdown",
   "id": "1722bd5a",
   "metadata": {},
   "source": [
    "## Ocena\n",
    "### ocena urządzenia wystawiona przez użytkownika \n",
    "#### zakres 0-5\n",
    "#### Liczba brakujących wartości :"
   ]
  },
  {
   "cell_type": "code",
   "execution_count": 113,
   "id": "a02b3e5f",
   "metadata": {},
   "outputs": [
    {
     "name": "stdout",
     "output_type": "stream",
     "text": [
      "45\n"
     ]
    }
   ],
   "source": [
    "print(df['Wiek kupującego'].isnull().sum())"
   ]
  },
  {
   "cell_type": "code",
   "execution_count": 114,
   "id": "96401342",
   "metadata": {},
   "outputs": [
    {
     "data": {
      "text/plain": [
       "count    413.000000\n",
       "mean      40.125908\n",
       "std        9.558640\n",
       "min       18.000000\n",
       "25%       33.000000\n",
       "50%       39.000000\n",
       "75%       46.000000\n",
       "max       74.000000\n",
       "Name: Wiek kupującego, dtype: float64"
      ]
     },
     "execution_count": 114,
     "metadata": {},
     "output_type": "execute_result"
    }
   ],
   "source": [
    "df['Wiek kupującego'].describe()"
   ]
  },
  {
   "cell_type": "code",
   "execution_count": 115,
   "id": "c00d5d9a",
   "metadata": {},
   "outputs": [
    {
     "data": {
      "text/plain": [
       "<AxesSubplot:>"
      ]
     },
     "execution_count": 115,
     "metadata": {},
     "output_type": "execute_result"
    },
    {
     "data": {
      "image/png": "[encoded data removed]",
      "text/plain": [
       "<Figure size 432x288 with 1 Axes>"
      ]
     },
     "metadata": {
      "needs_background": "light"
     },
     "output_type": "display_data"
    }
   ],
   "source": [
    "df['Ocena'].hist()"
   ]
  }
 ],
 "metadata": {
  "kernelspec": {
   "display_name": "Python 3 (ipykernel)",
   "language": "python",
   "name": "python3"
  },
  "language_info": {
   "codemirror_mode": {
    "name": "ipython",
    "version": 3
   },
   "file_extension": ".py",
   "mimetype": "text/x-python",
   "name": "python",
   "nbconvert_exporter": "python",
   "pygments_lexer": "ipython3",
   "version": "3.8.11"
  }
 },
 "nbformat": 4,
 "nbformat_minor": 5
}
