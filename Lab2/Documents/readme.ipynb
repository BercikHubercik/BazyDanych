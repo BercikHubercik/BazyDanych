{
 "cells": [
  {
   "cell_type": "markdown",
   "id": "67a84ed3",
   "metadata": {},
   "source": [
    "# Readme file\n",
    "\n",
    "## Struktura folderów zgodna z TIER Protocol 3.0\n",
    "    \n",
    "\n",
    "## Modyfikacja oryginalnych danych\n",
    "1. Przekształcono kolumny new_spm04 itd. na wiersze (melting)\n",
    "2. Rozbito informacje o płci i wieku na dwie kolumny(sex, age)\n",
    "3. Usunięto wiersze dla których w kolumnie age nie było żadnych wartości\n",
    "4. Zmieniono formatowanie tekstu w kolumnie age\n",
    "5. Usunięto kolumnę w której dotychczas znajdowały się razem informacje o płci i wieku\n",
    "6. Przestawiono kolumnę cases na ostatnie miejsce w tabeli\n",
    "7. Usunięto wiersze dla których, nie było wartości w kolumnie cases\n",
    "8. Zapisano utworzony df jako pickle w folderze AnalysisData "
   ]
  },
  {
   "cell_type": "code",
   "execution_count": null,
   "id": "3d984bef",
   "metadata": {},
   "outputs": [],
   "source": []
  }
 ],
 "metadata": {
  "kernelspec": {
   "display_name": "Python 3 (ipykernel)",
   "language": "python",
   "name": "python3"
  },
  "language_info": {
   "codemirror_mode": {
    "name": "ipython",
    "version": 3
   },
   "file_extension": ".py",
   "mimetype": "text/x-python",
   "name": "python",
   "nbconvert_exporter": "python",
   "pygments_lexer": "ipython3",
   "version": "3.8.11"
  }
 },
 "nbformat": 4,
 "nbformat_minor": 5
}
