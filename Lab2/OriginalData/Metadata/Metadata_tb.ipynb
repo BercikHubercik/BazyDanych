{
 "cells": [
  {
   "cell_type": "markdown",
   "id": "6096b96a",
   "metadata": {},
   "source": [
    "# Metadata guide\n",
    "\n",
    "## Dane dotyczą liczby przypadków gruźlicy \n",
    "\n",
    "## iso2\n",
    "### kraj w którym odnotowano przypadki\n",
    "\n",
    "## year\n",
    "### rok w którym odnotowano przypadki\n",
    "\n",
    "## new_spm04 itd\n",
    "### kodowanie płci i wieku new_sp *płeć(m) dolna_granica_wieku(0) gorna_granica_wieku(4)*\n",
    "     \n"
   ]
  },
  {
   "cell_type": "code",
   "execution_count": null,
   "id": "e0845bec",
   "metadata": {},
   "outputs": [],
   "source": []
  },
  {
   "cell_type": "code",
   "execution_count": null,
   "id": "2f404c41",
   "metadata": {},
   "outputs": [],
   "source": []
  },
  {
   "cell_type": "code",
   "execution_count": null,
   "id": "758803db",
   "metadata": {},
   "outputs": [],
   "source": []
  }
 ],
 "metadata": {
  "kernelspec": {
   "display_name": "Python 3 (ipykernel)",
   "language": "python",
   "name": "python3"
  },
  "language_info": {
   "codemirror_mode": {
    "name": "ipython",
    "version": 3
   },
   "file_extension": ".py",
   "mimetype": "text/x-python",
   "name": "python",
   "nbconvert_exporter": "python",
   "pygments_lexer": "ipython3",
   "version": "3.8.11"
  }
 },
 "nbformat": 4,
 "nbformat_minor": 5
}
